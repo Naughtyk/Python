{
 "cells": [
  {
   "cell_type": "code",
   "execution_count": 9,
   "metadata": {
    "scrolled": false
   },
   "outputs": [
    {
     "name": "stdout",
     "output_type": "stream",
     "text": [
      "\n"
     ]
    }
   ],
   "source": [
    "from tkinter import *\n",
    "\n",
    "def clicked():\n",
    "    paths = txt1.get().split(' ')\n",
    "    pathtosave = txt3.get()\n",
    "    pathtosaveunique = txt2.get()\n",
    "    lbl1.configure(text='Спасибо')\n",
    "    btn.configure(state='disabled')\n",
    "    txt1.configure(state='disabled', text='')\n",
    "    lbl2.configure(text='')\n",
    "    txt2.configure(state='disabled', text='')\n",
    "    lbl3.configure(text='')\n",
    "    txt3.configure(state='disabled', text='')\n",
    "    \n",
    "    lines = []\n",
    "    try:\n",
    "        for path in paths:\n",
    "            fin = open(path, 'r')\n",
    "            lines += fin.readlines()\n",
    "            try:\n",
    "                if lines[-1].find(\"\\n\") == -1:\n",
    "                    lines[-1] += '\\n'\n",
    "            except IndexError: print(\"\")\n",
    "            fin.close()\n",
    "        \n",
    "        linetosave = [] \n",
    "        try:\n",
    "            filetosave = open(pathtosave, 'r')\n",
    "            linetosave += filetosave.readlines()\n",
    "        except IOError:\n",
    "            filetosave = open(pathtosave, 'w')\n",
    "        filetosave.close()\n",
    "        \n",
    "        try:\n",
    "            if linetosave[-1].find(\"\\n\") == -1:\n",
    "                linetosave[-1] += '\\n'\n",
    "        except IndexError: print(\"\")\n",
    "        \n",
    "        result = list(set(lines) - set(linetosave))\n",
    "        fout = open(pathtosaveunique, 'w')\n",
    "        result = fout.writelines(result)\n",
    "        fout.close()\n",
    "        \n",
    "        lines += linetosave\n",
    "        newlines = list(set(lines))\n",
    "        fout = open(pathtosave, 'w')\n",
    "        newlines = fout.writelines(newlines)\n",
    "        fout.close()\n",
    "        \n",
    "    except FileNotFoundError:\n",
    "        lbl1.configure(text='Имена файлов введены неверно (нет таких файлов в директории)')\n",
    "\n",
    "window = Tk()\n",
    "window.title(\"Приложение\")\n",
    "window.geometry('750x250')\n",
    "\n",
    "lbl1 = Label(window, text=\"Введите имена файлов в формате 1.txt 2.txt... (через пробел)\")\n",
    "lbl1.grid(column=0, row=0)\n",
    "\n",
    "lbl2 = Label(window, text=\"Введите имя файла, для уникальных значений\")\n",
    "lbl2.grid(column=0, row=1)\n",
    "\n",
    "lbl3 = Label(window, text=\"Введите имя файла после \\\"склеивания\\\"\")\n",
    "lbl3.grid(column=0, row=2)\n",
    "\n",
    "txt1 = Entry(window, width=50)\n",
    "txt1.grid(column=1, row=0)\n",
    "\n",
    "txt2 = Entry(window, width=50)\n",
    "txt2.grid(column=1, row=1)\n",
    "\n",
    "txt3 = Entry(window, width=50)\n",
    "txt3.grid(column=1, row=2)\n",
    "\n",
    "btn = Button(window, text=\"Ввести\", command=clicked)\n",
    "btn.grid(column=2, row=2)\n",
    "window.mainloop()\n"
   ]
  }
 ],
 "metadata": {
  "kernelspec": {
   "display_name": "Python 3",
   "language": "python",
   "name": "python3"
  },
  "language_info": {
   "codemirror_mode": {
    "name": "ipython",
    "version": 3
   },
   "file_extension": ".py",
   "mimetype": "text/x-python",
   "name": "python",
   "nbconvert_exporter": "python",
   "pygments_lexer": "ipython3",
   "version": "3.7.3"
  }
 },
 "nbformat": 4,
 "nbformat_minor": 2
}
