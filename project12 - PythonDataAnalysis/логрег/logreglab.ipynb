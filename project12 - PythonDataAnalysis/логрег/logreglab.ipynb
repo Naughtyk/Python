{
 "cells": [
  {
   "cell_type": "code",
   "execution_count": 127,
   "metadata": {},
   "outputs": [
    {
     "data": {
      "text/html": [
       "<div>\n",
       "<style scoped>\n",
       "    .dataframe tbody tr th:only-of-type {\n",
       "        vertical-align: middle;\n",
       "    }\n",
       "\n",
       "    .dataframe tbody tr th {\n",
       "        vertical-align: top;\n",
       "    }\n",
       "\n",
       "    .dataframe thead th {\n",
       "        text-align: right;\n",
       "    }\n",
       "</style>\n",
       "<table border=\"1\" class=\"dataframe\">\n",
       "  <thead>\n",
       "    <tr style=\"text-align: right;\">\n",
       "      <th></th>\n",
       "      <th>x1</th>\n",
       "      <th>x2</th>\n",
       "      <th>x3</th>\n",
       "      <th>x4</th>\n",
       "      <th>x5</th>\n",
       "      <th>x6</th>\n",
       "      <th>x7</th>\n",
       "    </tr>\n",
       "  </thead>\n",
       "  <tbody>\n",
       "    <tr>\n",
       "      <th>0</th>\n",
       "      <td>145</td>\n",
       "      <td>25</td>\n",
       "      <td>2.1</td>\n",
       "      <td>27</td>\n",
       "      <td>9</td>\n",
       "      <td>51</td>\n",
       "      <td>0</td>\n",
       "    </tr>\n",
       "    <tr>\n",
       "      <th>1</th>\n",
       "      <td>130</td>\n",
       "      <td>23</td>\n",
       "      <td>2.4</td>\n",
       "      <td>22</td>\n",
       "      <td>7</td>\n",
       "      <td>45</td>\n",
       "      <td>0</td>\n",
       "    </tr>\n",
       "    <tr>\n",
       "      <th>2</th>\n",
       "      <td>150</td>\n",
       "      <td>21</td>\n",
       "      <td>1.9</td>\n",
       "      <td>29</td>\n",
       "      <td>12</td>\n",
       "      <td>57</td>\n",
       "      <td>0</td>\n",
       "    </tr>\n",
       "    <tr>\n",
       "      <th>3</th>\n",
       "      <td>141</td>\n",
       "      <td>19</td>\n",
       "      <td>2.5</td>\n",
       "      <td>23</td>\n",
       "      <td>15</td>\n",
       "      <td>53</td>\n",
       "      <td>0</td>\n",
       "    </tr>\n",
       "    <tr>\n",
       "      <th>4</th>\n",
       "      <td>137</td>\n",
       "      <td>17</td>\n",
       "      <td>2.3</td>\n",
       "      <td>25</td>\n",
       "      <td>10</td>\n",
       "      <td>49</td>\n",
       "      <td>0</td>\n",
       "    </tr>\n",
       "  </tbody>\n",
       "</table>\n",
       "</div>"
      ],
      "text/plain": [
       "    x1  x2   x3  x4  x5  x6  x7\n",
       "0  145  25  2.1  27   9  51   0\n",
       "1  130  23  2.4  22   7  45   0\n",
       "2  150  21  1.9  29  12  57   0\n",
       "3  141  19  2.5  23  15  53   0\n",
       "4  137  17  2.3  25  10  49   0"
      ]
     },
     "execution_count": 127,
     "metadata": {},
     "output_type": "execute_result"
    }
   ],
   "source": [
    "# подготовка: в консоли windows выполнить pip install wheel и затем pip install -U scikit-learn\n",
    "\n",
    "import pandas as pd\n",
    "#col_names = ['x1', 'x2', 'x3', 'x4', 'y']\n",
    "df_train = pd.read_csv(\"logit_train.csv\")\n",
    "df_train.head()"
   ]
  },
  {
   "cell_type": "code",
   "execution_count": 128,
   "metadata": {},
   "outputs": [],
   "source": [
    "factor_cols = ['x1', 'x2', 'x3', 'x4', 'x5', 'x6']\n",
    "\n",
    "X_train = df_train[factor_cols]\n",
    "\n",
    "y_train = df_train['x7']"
   ]
  },
  {
   "cell_type": "code",
   "execution_count": 129,
   "metadata": {},
   "outputs": [
    {
     "data": {
      "text/plain": [
       "LogisticRegression(C=1.0, class_weight=None, dual=False, fit_intercept=True,\n",
       "                   intercept_scaling=1, l1_ratio=None, max_iter=100,\n",
       "                   multi_class='auto', n_jobs=None, penalty='l2',\n",
       "                   random_state=None, solver='lbfgs', tol=0.0001, verbose=0,\n",
       "                   warm_start=False)"
      ]
     },
     "execution_count": 129,
     "metadata": {},
     "output_type": "execute_result"
    }
   ],
   "source": [
    "from sklearn.linear_model import LogisticRegression\n",
    "\n",
    "model = LogisticRegression()\n",
    "\n",
    "model.fit(X_train, y_train)"
   ]
  },
  {
   "cell_type": "code",
   "execution_count": 130,
   "metadata": {},
   "outputs": [
    {
     "name": "stdout",
     "output_type": "stream",
     "text": [
      "[[12  0]\n",
      " [ 0  8]]\n"
     ]
    }
   ],
   "source": [
    "#матрица классификации:\n",
    "from sklearn import metrics\n",
    "cnf_matrix = metrics.confusion_matrix(y_train, y_train)\n",
    "print(cnf_matrix)"
   ]
  },
  {
   "cell_type": "code",
   "execution_count": 131,
   "metadata": {},
   "outputs": [
    {
     "name": "stdout",
     "output_type": "stream",
     "text": [
      "Accuracy: 1.0\n"
     ]
    }
   ],
   "source": [
    "print(\"Accuracy:\",metrics.accuracy_score(y_train, y_train))\n",
    "#Процент верно классифицированных значений в обучающей выборке"
   ]
  },
  {
   "cell_type": "code",
   "execution_count": 132,
   "metadata": {},
   "outputs": [
    {
     "name": "stdout",
     "output_type": "stream",
     "text": [
      "Precision: 1.0\n"
     ]
    }
   ],
   "source": [
    "print(\"Precision:\",metrics.precision_score(y_train, y_train))\n",
    "#Насколько часто модель оказывается права, когда делает новое предсказание"
   ]
  },
  {
   "cell_type": "code",
   "execution_count": 133,
   "metadata": {},
   "outputs": [
    {
     "name": "stdout",
     "output_type": "stream",
     "text": [
      "Recall: 1.0\n"
     ]
    }
   ],
   "source": [
    "print(\"Recall:\",metrics.recall_score(y_train, y_train))\n",
    "#Насколько часто модель оказывается права только относительно значений \"1\""
   ]
  },
  {
   "cell_type": "code",
   "execution_count": 134,
   "metadata": {},
   "outputs": [
    {
     "data": {
      "text/plain": [
       "array([0, 1, 1, 1, 0], dtype=int64)"
      ]
     },
     "execution_count": 134,
     "metadata": {},
     "output_type": "execute_result"
    }
   ],
   "source": [
    "df_test = pd.read_csv(\"logit_test.csv\")\n",
    "\n",
    "X_test=df_test[factor_cols]\n",
    "\n",
    "#y_test=df_test.y\n",
    "\n",
    "y_pred = model.predict(X_test)\n",
    "y_pred"
   ]
  },
  {
   "cell_type": "code",
   "execution_count": 135,
   "metadata": {},
   "outputs": [
    {
     "data": {
      "text/plain": [
       "array([0.005, 0.987, 0.996, 0.993, 0.   ])"
      ]
     },
     "execution_count": 135,
     "metadata": {},
     "output_type": "execute_result"
    }
   ],
   "source": [
    "#Функция  predict_proba предоставляет постериорные вероятности, что У примет значение 1.\n",
    "#Функция predict выдает наиболее вероятную категорию для этой переменной (0 и 1).\n",
    "#Иногда нужны просто эти категории, иногда нужно прояснить возможные неоднозначные наблюдения,\n",
    "#для того, чтобы выяснить их наличие, случае следует вычислять постериорные вероятности. \n",
    "\n",
    "#Округлить эти значения до 3 знаков:\n",
    "\n",
    "import numpy as np\n",
    "np.round(model.predict_proba(X_test)[:,1], decimals=3)"
   ]
  },
  {
   "cell_type": "code",
   "execution_count": 136,
   "metadata": {},
   "outputs": [
    {
     "name": "stderr",
     "output_type": "stream",
     "text": [
      "C:\\Users\\Boss\\anaconda3\\lib\\site-packages\\ipykernel_launcher.py:2: UserWarning: Pandas doesn't allow columns to be created via a new attribute name - see https://pandas.pydata.org/pandas-docs/stable/indexing.html#attribute-access\n",
      "  \n"
     ]
    },
    {
     "data": {
      "text/plain": [
       "array([0.005, 0.987, 0.996, 0.993, 0.   ])"
      ]
     },
     "execution_count": 136,
     "metadata": {},
     "output_type": "execute_result"
    }
   ],
   "source": [
    "#Если мы хотим записать данные вместо пустых значений в тестовой выборке:\n",
    "df_test.y = np.round(model.predict_proba(X_test)[:,1], decimals=3)\n",
    "df_test.y"
   ]
  },
  {
   "cell_type": "code",
   "execution_count": 139,
   "metadata": {
    "scrolled": false
   },
   "outputs": [
    {
     "name": "stdout",
     "output_type": "stream",
     "text": [
      "Optimization terminated successfully.    (Exit mode 0)\n",
      "            Current function value: 1.0778735685929537e-10\n",
      "            Iterations: 42\n",
      "            Function evaluations: 48\n",
      "            Gradient evaluations: 42\n",
      "                           Logit Regression Results                           \n",
      "==============================================================================\n",
      "Dep. Variable:                     x7   No. Observations:                   20\n",
      "Model:                          Logit   Df Residuals:                       14\n",
      "Method:                           MLE   Df Model:                            5\n",
      "Date:                Mon, 26 Oct 2020   Pseudo R-squ.:                   1.000\n",
      "Time:                        14:53:36   Log-Likelihood:            -2.1557e-09\n",
      "converged:                       True   LL-Null:                       -13.460\n",
      "Covariance Type:            nonrobust   LLR p-value:                 5.911e-05\n",
      "==============================================================================\n",
      "                 coef    std err          z      P>|z|      [0.025      0.975]\n",
      "------------------------------------------------------------------------------\n",
      "x1            -1.6563    5.7e+06   -2.9e-07      1.000   -1.12e+07    1.12e+07\n",
      "x2            -4.8932   4.67e+06  -1.05e-06      1.000   -9.14e+06    9.14e+06\n",
      "x3            -0.7179    4.7e+07  -1.53e-08      1.000    -9.2e+07     9.2e+07\n",
      "x4             3.6199   1.19e+07   3.03e-07      1.000   -2.34e+07    2.34e+07\n",
      "x5             0.1533   5.26e+06   2.92e-08      1.000   -1.03e+07    1.03e+07\n",
      "x6             3.7423   6.98e+06   5.36e-07      1.000   -1.37e+07    1.37e+07\n",
      "==============================================================================\n",
      "\n",
      "Complete Separation: The results show that there iscomplete separation.\n",
      "In this case the Maximum Likelihood Estimator does not exist and the parameters\n",
      "are not identified.\n"
     ]
    },
    {
     "name": "stderr",
     "output_type": "stream",
     "text": [
      "C:\\Users\\Boss\\anaconda3\\lib\\site-packages\\statsmodels\\discrete\\discrete_model.py:1747: RuntimeWarning: overflow encountered in exp\n",
      "  return 1/(1+np.exp(-X))\n",
      "C:\\Users\\Boss\\anaconda3\\lib\\site-packages\\statsmodels\\discrete\\discrete_model.py:1800: RuntimeWarning: divide by zero encountered in log\n",
      "  return np.sum(np.log(self.cdf(q*np.dot(X,params))))\n"
     ]
    }
   ],
   "source": [
    "#model evaluation\n",
    "import statsmodels.api as sm\n",
    "logit_model = sm.Logit(y_train, X_train)\n",
    "result = logit_model.fit_regularized()\n",
    "#должно появиться сообщение \"optimization terminated successfully\"\n",
    "print(result.summary())"
   ]
  },
  {
   "cell_type": "code",
   "execution_count": 141,
   "metadata": {
    "scrolled": true
   },
   "outputs": [
    {
     "data": {
      "text/plain": [
       "<matplotlib.axes._subplots.AxesSubplot at 0x1b29ca0c0c8>"
      ]
     },
     "execution_count": 141,
     "metadata": {},
     "output_type": "execute_result"
    },
    {
     "data": {
      "image/png": "[encoded data removed]",
      "text/plain": [
       "<Figure size 432x288 with 1 Axes>"
      ]
     },
     "metadata": {
      "needs_background": "light"
     },
     "output_type": "display_data"
    }
   ],
   "source": [
    "#теоретическая кривая регрессии\n",
    "import seaborn as sns\n",
    "probs = model.predict_proba(X_train)[:,1]\n",
    "sns.regplot(x=df_train['x7'], y=probs, data=df_train, logistic=True, x_jitter=.05)"
   ]
  },
  {
   "cell_type": "code",
   "execution_count": null,
   "metadata": {},
   "outputs": [],
   "source": []
  }
 ],
 "metadata": {
  "kernelspec": {
   "display_name": "Python 3",
   "language": "python",
   "name": "python3"
  },
  "language_info": {
   "codemirror_mode": {
    "name": "ipython",
    "version": 3
   },
   "file_extension": ".py",
   "mimetype": "text/x-python",
   "name": "python",
   "nbconvert_exporter": "python",
   "pygments_lexer": "ipython3",
   "version": "3.7.6"
  }
 },
 "nbformat": 4,
 "nbformat_minor": 4
}
