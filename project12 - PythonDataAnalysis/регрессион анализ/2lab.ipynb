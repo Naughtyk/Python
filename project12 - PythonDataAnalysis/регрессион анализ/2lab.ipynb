{
 "cells": [
  {
   "cell_type": "code",
   "execution_count": 2,
   "metadata": {},
   "outputs": [
    {
     "data": {
      "text/html": [
       "<div>\n",
       "<style scoped>\n",
       "    .dataframe tbody tr th:only-of-type {\n",
       "        vertical-align: middle;\n",
       "    }\n",
       "\n",
       "    .dataframe tbody tr th {\n",
       "        vertical-align: top;\n",
       "    }\n",
       "\n",
       "    .dataframe thead th {\n",
       "        text-align: right;\n",
       "    }\n",
       "</style>\n",
       "<table border=\"1\" class=\"dataframe\">\n",
       "  <thead>\n",
       "    <tr style=\"text-align: right;\">\n",
       "      <th></th>\n",
       "      <th>issue</th>\n",
       "      <th>adcost</th>\n",
       "    </tr>\n",
       "  </thead>\n",
       "  <tbody>\n",
       "    <tr>\n",
       "      <th>Kommersant</th>\n",
       "      <td>135</td>\n",
       "      <td>22000</td>\n",
       "    </tr>\n",
       "    <tr>\n",
       "      <th>Ekspert</th>\n",
       "      <td>120</td>\n",
       "      <td>38230</td>\n",
       "    </tr>\n",
       "    <tr>\n",
       "      <th>Sekretfirmy</th>\n",
       "      <td>110</td>\n",
       "      <td>18500</td>\n",
       "    </tr>\n",
       "    <tr>\n",
       "      <th>Delo</th>\n",
       "      <td>95</td>\n",
       "      <td>15650</td>\n",
       "    </tr>\n",
       "    <tr>\n",
       "      <th>Profil</th>\n",
       "      <td>90</td>\n",
       "      <td>25320</td>\n",
       "    </tr>\n",
       "    <tr>\n",
       "      <th>Nalogovyyvestnik</th>\n",
       "      <td>40</td>\n",
       "      <td>14000</td>\n",
       "    </tr>\n",
       "    <tr>\n",
       "      <th>Dengi</th>\n",
       "      <td>80</td>\n",
       "      <td>18000</td>\n",
       "    </tr>\n",
       "    <tr>\n",
       "      <th>Voprosyekonomiki</th>\n",
       "      <td>40</td>\n",
       "      <td>14500</td>\n",
       "    </tr>\n",
       "    <tr>\n",
       "      <th>Rossiyskoyepredprinimatelstvo</th>\n",
       "      <td>15</td>\n",
       "      <td>9100</td>\n",
       "    </tr>\n",
       "    <tr>\n",
       "      <th>Finans</th>\n",
       "      <td>90</td>\n",
       "      <td>19500</td>\n",
       "    </tr>\n",
       "    <tr>\n",
       "      <th>Ekonomist</th>\n",
       "      <td>70</td>\n",
       "      <td>14200</td>\n",
       "    </tr>\n",
       "    <tr>\n",
       "      <th>THESIS</th>\n",
       "      <td>40</td>\n",
       "      <td>9400</td>\n",
       "    </tr>\n",
       "    <tr>\n",
       "      <th>Mirovayaekonomika</th>\n",
       "      <td>60</td>\n",
       "      <td>10600</td>\n",
       "    </tr>\n",
       "    <tr>\n",
       "      <th>EKO</th>\n",
       "      <td>30</td>\n",
       "      <td>5000</td>\n",
       "    </tr>\n",
       "    <tr>\n",
       "      <th>Marketolog</th>\n",
       "      <td>80</td>\n",
       "      <td>18350</td>\n",
       "    </tr>\n",
       "    <tr>\n",
       "      <th>BusinessOnline</th>\n",
       "      <td>69</td>\n",
       "      <td>17000</td>\n",
       "    </tr>\n",
       "  </tbody>\n",
       "</table>\n",
       "</div>"
      ],
      "text/plain": [
       "                               issue  adcost\n",
       "Kommersant                       135   22000\n",
       "Ekspert                          120   38230\n",
       "Sekretfirmy                      110   18500\n",
       "Delo                              95   15650\n",
       "Profil                            90   25320\n",
       "Nalogovyyvestnik                  40   14000\n",
       "Dengi                             80   18000\n",
       "Voprosyekonomiki                  40   14500\n",
       "Rossiyskoyepredprinimatelstvo     15    9100\n",
       "Finans                            90   19500\n",
       "Ekonomist                         70   14200\n",
       "THESIS                            40    9400\n",
       "Mirovayaekonomika                 60   10600\n",
       "EKO                               30    5000\n",
       "Marketolog                        80   18350\n",
       "BusinessOnline                    69   17000"
      ]
     },
     "execution_count": 2,
     "metadata": {},
     "output_type": "execute_result"
    }
   ],
   "source": [
    "import pandas as pd\n",
    "\n",
    "df = pd.read_csv('regressionlab_1.csv', index_col=0)\n",
    "df"
   ]
  },
  {
   "cell_type": "code",
   "execution_count": 3,
   "metadata": {},
   "outputs": [
    {
     "data": {
      "image/png": "[encoded data removed]",
      "text/plain": [
       "<Figure size 432x288 with 1 Axes>"
      ]
     },
     "metadata": {
      "needs_background": "light"
     },
     "output_type": "display_data"
    }
   ],
   "source": [
    "import numpy as np\n",
    "import matplotlib.pyplot as plt\n",
    "plt.scatter(df['issue'], df['adcost'])\n",
    "plt.title('Scatterplot of Issue volume on Ad placement cost')\n",
    "plt.xlabel('issue volume')\n",
    "plt.ylabel('ad placement cost')\n",
    "plt.show()"
   ]
  },
  {
   "cell_type": "code",
   "execution_count": 4,
   "metadata": {},
   "outputs": [
    {
     "data": {
      "text/plain": [
       "(0.7753686709603981, 0.0004171852667183099)"
      ]
     },
     "execution_count": 4,
     "metadata": {},
     "output_type": "execute_result"
    }
   ],
   "source": [
    "import scipy.stats as scp\n",
    "scp.pearsonr(df['issue'], df['adcost'])"
   ]
  },
  {
   "cell_type": "code",
   "execution_count": 5,
   "metadata": {},
   "outputs": [
    {
     "name": "stderr",
     "output_type": "stream",
     "text": [
      "D:\\anaconda3\\lib\\site-packages\\scipy\\stats\\stats.py:1535: UserWarning: kurtosistest only valid for n>=20 ... continuing anyway, n=16\n",
      "  \"anyway, n=%i\" % int(n))\n"
     ]
    },
    {
     "data": {
      "text/html": [
       "<table class=\"simpletable\">\n",
       "<caption>OLS Regression Results</caption>\n",
       "<tr>\n",
       "  <th>Dep. Variable:</th>         <td>adcost</td>      <th>  R-squared:         </th> <td>   0.601</td>\n",
       "</tr>\n",
       "<tr>\n",
       "  <th>Model:</th>                   <td>OLS</td>       <th>  Adj. R-squared:    </th> <td>   0.573</td>\n",
       "</tr>\n",
       "<tr>\n",
       "  <th>Method:</th>             <td>Least Squares</td>  <th>  F-statistic:       </th> <td>   21.11</td>\n",
       "</tr>\n",
       "<tr>\n",
       "  <th>Date:</th>             <td>Sun, 25 Oct 2020</td> <th>  Prob (F-statistic):</th> <td>0.000417</td>\n",
       "</tr>\n",
       "<tr>\n",
       "  <th>Time:</th>                 <td>13:50:08</td>     <th>  Log-Likelihood:    </th> <td> -157.98</td>\n",
       "</tr>\n",
       "<tr>\n",
       "  <th>No. Observations:</th>      <td>    16</td>      <th>  AIC:               </th> <td>   320.0</td>\n",
       "</tr>\n",
       "<tr>\n",
       "  <th>Df Residuals:</th>          <td>    14</td>      <th>  BIC:               </th> <td>   321.5</td>\n",
       "</tr>\n",
       "<tr>\n",
       "  <th>Df Model:</th>              <td>     1</td>      <th>                     </th>     <td> </td>   \n",
       "</tr>\n",
       "<tr>\n",
       "  <th>Covariance Type:</th>      <td>nonrobust</td>    <th>                     </th>     <td> </td>   \n",
       "</tr>\n",
       "</table>\n",
       "<table class=\"simpletable\">\n",
       "<tr>\n",
       "      <td></td>         <th>coef</th>     <th>std err</th>      <th>t</th>      <th>P>|t|</th>  <th>[0.025</th>    <th>0.975]</th>  \n",
       "</tr>\n",
       "<tr>\n",
       "  <th>Intercept</th> <td> 4053.3215</td> <td> 3052.422</td> <td>    1.328</td> <td> 0.205</td> <td>-2493.473</td> <td> 1.06e+04</td>\n",
       "</tr>\n",
       "<tr>\n",
       "  <th>issue</th>     <td>  175.6846</td> <td>   38.242</td> <td>    4.594</td> <td> 0.000</td> <td>   93.664</td> <td>  257.706</td>\n",
       "</tr>\n",
       "</table>\n",
       "<table class=\"simpletable\">\n",
       "<tr>\n",
       "  <th>Omnibus:</th>       <td> 7.846</td> <th>  Durbin-Watson:     </th> <td>   2.426</td>\n",
       "</tr>\n",
       "<tr>\n",
       "  <th>Prob(Omnibus):</th> <td> 0.020</td> <th>  Jarque-Bera (JB):  </th> <td>   4.567</td>\n",
       "</tr>\n",
       "<tr>\n",
       "  <th>Skew:</th>          <td> 1.137</td> <th>  Prob(JB):          </th> <td>   0.102</td>\n",
       "</tr>\n",
       "<tr>\n",
       "  <th>Kurtosis:</th>      <td> 4.296</td> <th>  Cond. No.          </th> <td>    194.</td>\n",
       "</tr>\n",
       "</table><br/><br/>Warnings:<br/>[1] Standard Errors assume that the covariance matrix of the errors is correctly specified."
      ],
      "text/plain": [
       "<class 'statsmodels.iolib.summary.Summary'>\n",
       "\"\"\"\n",
       "                            OLS Regression Results                            \n",
       "==============================================================================\n",
       "Dep. Variable:                 adcost   R-squared:                       0.601\n",
       "Model:                            OLS   Adj. R-squared:                  0.573\n",
       "Method:                 Least Squares   F-statistic:                     21.11\n",
       "Date:                Sun, 25 Oct 2020   Prob (F-statistic):           0.000417\n",
       "Time:                        13:50:08   Log-Likelihood:                -157.98\n",
       "No. Observations:                  16   AIC:                             320.0\n",
       "Df Residuals:                      14   BIC:                             321.5\n",
       "Df Model:                           1                                         \n",
       "Covariance Type:            nonrobust                                         \n",
       "==============================================================================\n",
       "                 coef    std err          t      P>|t|      [0.025      0.975]\n",
       "------------------------------------------------------------------------------\n",
       "Intercept   4053.3215   3052.422      1.328      0.205   -2493.473    1.06e+04\n",
       "issue        175.6846     38.242      4.594      0.000      93.664     257.706\n",
       "==============================================================================\n",
       "Omnibus:                        7.846   Durbin-Watson:                   2.426\n",
       "Prob(Omnibus):                  0.020   Jarque-Bera (JB):                4.567\n",
       "Skew:                           1.137   Prob(JB):                        0.102\n",
       "Kurtosis:                       4.296   Cond. No.                         194.\n",
       "==============================================================================\n",
       "\n",
       "Warnings:\n",
       "[1] Standard Errors assume that the covariance matrix of the errors is correctly specified.\n",
       "\"\"\""
      ]
     },
     "execution_count": 5,
     "metadata": {},
     "output_type": "execute_result"
    }
   ],
   "source": [
    "import statsmodels.formula.api as smf\n",
    "lm = smf.ols(\"adcost~issue\", df).fit()\n",
    "lm.summary()"
   ]
  },
  {
   "cell_type": "code",
   "execution_count": 6,
   "metadata": {},
   "outputs": [
    {
     "name": "stdout",
     "output_type": "stream",
     "text": [
      "            mean      mean_se  mean_ci_lower  mean_ci_upper  obs_ci_lower  \\\n",
      "0   27770.740365  2691.515659   21998.013408   33543.467322  15547.550833   \n",
      "1   25135.471602  2200.495160   20415.878877   29855.064328  13372.965861   \n",
      "2   23378.625761  1899.054215   19305.559560   27451.691961  11860.298881   \n",
      "3   20743.356998  1516.960250   17489.800847   23996.913149   9488.686258   \n",
      "4   19864.934077  1418.567626   16822.409118   22907.459036   8669.446417   \n",
      "5   11080.704868  1773.621858    7276.664317   14884.745419   -345.261627   \n",
      "6   18108.088235  1286.092275   15349.694644   20866.481827   6986.455215   \n",
      "7   11080.704868  1773.621858    7276.664317   14884.745419   -345.261627   \n",
      "8    6688.590264  2540.577179    1239.594150   12137.586377  -5385.081277   \n",
      "9   19864.934077  1418.567626   16822.409118   22907.459036   8669.446417   \n",
      "10  16351.242394  1260.247196   13648.280984   19054.203803   5243.227890   \n",
      "11  11080.704868  1773.621858    7276.664317   14884.745419   -345.261627   \n",
      "12  14594.396552  1347.183385   11704.975561   17483.817542   3439.543819   \n",
      "13   9323.859026  2061.525125    4902.327381   13745.390672  -2322.253111   \n",
      "14  18108.088235  1286.092275   15349.694644   20866.481827   6986.455215   \n",
      "15  16175.557809  1264.013028   13464.519494   18886.596124   5065.575155   \n",
      "\n",
      "    obs_ci_upper  \n",
      "0   39993.929897  \n",
      "1   36897.977344  \n",
      "2   34896.952640  \n",
      "3   31998.027737  \n",
      "4   31060.421738  \n",
      "5   22506.671363  \n",
      "6   29229.721255  \n",
      "7   22506.671363  \n",
      "8   18762.261804  \n",
      "9   31060.421738  \n",
      "10  27459.256897  \n",
      "11  22506.671363  \n",
      "12  25749.249284  \n",
      "13  20969.971164  \n",
      "14  29229.721255  \n",
      "15  27285.540463  \n"
     ]
    }
   ],
   "source": [
    "print(lm.get_prediction(df, weights = 1).summary_frame())"
   ]
  },
  {
   "cell_type": "code",
   "execution_count": null,
   "metadata": {},
   "outputs": [],
   "source": []
  },
  {
   "cell_type": "code",
   "execution_count": null,
   "metadata": {},
   "outputs": [],
   "source": []
  },
  {
   "cell_type": "code",
   "execution_count": 7,
   "metadata": {},
   "outputs": [],
   "source": [
    "df2 = df.drop(labels='Ekspert', axis=0)\n",
    "lm2 = smf.ols(\"adcost~issue\", df2).fit()"
   ]
  },
  {
   "cell_type": "code",
   "execution_count": 10,
   "metadata": {},
   "outputs": [
    {
     "name": "stdout",
     "output_type": "stream",
     "text": [
      "           mean      mean_se  mean_ci_lower  mean_ci_upper  obs_ci_lower  \\\n",
      "0  22026.178464  1605.397531   18557.927957   25494.428971  14108.673399   \n",
      "\n",
      "   obs_ci_upper  \n",
      "0  29943.683529  \n"
     ]
    }
   ],
   "source": [
    "print(lm2.get_prediction(df[1:2], weights=1).summary_frame())"
   ]
  },
  {
   "cell_type": "code",
   "execution_count": null,
   "metadata": {},
   "outputs": [],
   "source": []
  },
  {
   "cell_type": "code",
   "execution_count": null,
   "metadata": {},
   "outputs": [],
   "source": []
  },
  {
   "cell_type": "code",
   "execution_count": 18,
   "metadata": {},
   "outputs": [],
   "source": [
    "df = pd.read_csv('regressionlab_2.csv', decimal=\",\")"
   ]
  },
  {
   "cell_type": "code",
   "execution_count": 19,
   "metadata": {},
   "outputs": [
    {
     "data": {
      "image/png": "[encoded data removed]",
      "text/plain": [
       "<Figure size 900x900 with 30 Axes>"
      ]
     },
     "metadata": {
      "needs_background": "light"
     },
     "output_type": "display_data"
    }
   ],
   "source": [
    "import seaborn as sns\n",
    "sns.pairplot(df)\n",
    "plt.show()"
   ]
  },
  {
   "cell_type": "code",
   "execution_count": 20,
   "metadata": {},
   "outputs": [
    {
     "data": {
      "text/html": [
       "<table class=\"simpletable\">\n",
       "<caption>OLS Regression Results</caption>\n",
       "<tr>\n",
       "  <th>Dep. Variable:</th>            <td>Y</td>        <th>  R-squared:         </th> <td>   0.811</td>\n",
       "</tr>\n",
       "<tr>\n",
       "  <th>Model:</th>                   <td>OLS</td>       <th>  Adj. R-squared:    </th> <td>   0.786</td>\n",
       "</tr>\n",
       "<tr>\n",
       "  <th>Method:</th>             <td>Least Squares</td>  <th>  F-statistic:       </th> <td>   32.14</td>\n",
       "</tr>\n",
       "<tr>\n",
       "  <th>Date:</th>             <td>Sat, 24 Oct 2020</td> <th>  Prob (F-statistic):</th> <td>1.88e-10</td>\n",
       "</tr>\n",
       "<tr>\n",
       "  <th>Time:</th>                 <td>20:59:17</td>     <th>  Log-Likelihood:    </th> <td> -254.10</td>\n",
       "</tr>\n",
       "<tr>\n",
       "  <th>No. Observations:</th>      <td>    35</td>      <th>  AIC:               </th> <td>   518.2</td>\n",
       "</tr>\n",
       "<tr>\n",
       "  <th>Df Residuals:</th>          <td>    30</td>      <th>  BIC:               </th> <td>   526.0</td>\n",
       "</tr>\n",
       "<tr>\n",
       "  <th>Df Model:</th>              <td>     4</td>      <th>                     </th>     <td> </td>   \n",
       "</tr>\n",
       "<tr>\n",
       "  <th>Covariance Type:</th>      <td>nonrobust</td>    <th>                     </th>     <td> </td>   \n",
       "</tr>\n",
       "</table>\n",
       "<table class=\"simpletable\">\n",
       "<tr>\n",
       "      <td></td>         <th>coef</th>     <th>std err</th>      <th>t</th>      <th>P>|t|</th>  <th>[0.025</th>    <th>0.975]</th>  \n",
       "</tr>\n",
       "<tr>\n",
       "  <th>Intercept</th> <td> -664.8898</td> <td>  516.691</td> <td>   -1.287</td> <td> 0.208</td> <td>-1720.113</td> <td>  390.334</td>\n",
       "</tr>\n",
       "<tr>\n",
       "  <th>X1</th>        <td>  108.3173</td> <td>   17.215</td> <td>    6.292</td> <td> 0.000</td> <td>   73.160</td> <td>  143.474</td>\n",
       "</tr>\n",
       "<tr>\n",
       "  <th>X2</th>        <td>  -20.8243</td> <td>   35.191</td> <td>   -0.592</td> <td> 0.558</td> <td>  -92.694</td> <td>   51.045</td>\n",
       "</tr>\n",
       "<tr>\n",
       "  <th>X3</th>        <td>  626.3726</td> <td>  127.061</td> <td>    4.930</td> <td> 0.000</td> <td>  366.879</td> <td>  885.866</td>\n",
       "</tr>\n",
       "<tr>\n",
       "  <th>X4</th>        <td>  609.8279</td> <td>  134.102</td> <td>    4.548</td> <td> 0.000</td> <td>  335.956</td> <td>  883.700</td>\n",
       "</tr>\n",
       "</table>\n",
       "<table class=\"simpletable\">\n",
       "<tr>\n",
       "  <th>Omnibus:</th>       <td> 7.384</td> <th>  Durbin-Watson:     </th> <td>   1.557</td>\n",
       "</tr>\n",
       "<tr>\n",
       "  <th>Prob(Omnibus):</th> <td> 0.025</td> <th>  Jarque-Bera (JB):  </th> <td>   5.885</td>\n",
       "</tr>\n",
       "<tr>\n",
       "  <th>Skew:</th>          <td> 0.861</td> <th>  Prob(JB):          </th> <td>  0.0527</td>\n",
       "</tr>\n",
       "<tr>\n",
       "  <th>Kurtosis:</th>      <td> 4.035</td> <th>  Cond. No.          </th> <td>    278.</td>\n",
       "</tr>\n",
       "</table><br/><br/>Warnings:<br/>[1] Standard Errors assume that the covariance matrix of the errors is correctly specified."
      ],
      "text/plain": [
       "<class 'statsmodels.iolib.summary.Summary'>\n",
       "\"\"\"\n",
       "                            OLS Regression Results                            \n",
       "==============================================================================\n",
       "Dep. Variable:                      Y   R-squared:                       0.811\n",
       "Model:                            OLS   Adj. R-squared:                  0.786\n",
       "Method:                 Least Squares   F-statistic:                     32.14\n",
       "Date:                Sat, 24 Oct 2020   Prob (F-statistic):           1.88e-10\n",
       "Time:                        20:59:17   Log-Likelihood:                -254.10\n",
       "No. Observations:                  35   AIC:                             518.2\n",
       "Df Residuals:                      30   BIC:                             526.0\n",
       "Df Model:                           4                                         \n",
       "Covariance Type:            nonrobust                                         \n",
       "==============================================================================\n",
       "                 coef    std err          t      P>|t|      [0.025      0.975]\n",
       "------------------------------------------------------------------------------\n",
       "Intercept   -664.8898    516.691     -1.287      0.208   -1720.113     390.334\n",
       "X1           108.3173     17.215      6.292      0.000      73.160     143.474\n",
       "X2           -20.8243     35.191     -0.592      0.558     -92.694      51.045\n",
       "X3           626.3726    127.061      4.930      0.000     366.879     885.866\n",
       "X4           609.8279    134.102      4.548      0.000     335.956     883.700\n",
       "==============================================================================\n",
       "Omnibus:                        7.384   Durbin-Watson:                   1.557\n",
       "Prob(Omnibus):                  0.025   Jarque-Bera (JB):                5.885\n",
       "Skew:                           0.861   Prob(JB):                       0.0527\n",
       "Kurtosis:                       4.035   Cond. No.                         278.\n",
       "==============================================================================\n",
       "\n",
       "Warnings:\n",
       "[1] Standard Errors assume that the covariance matrix of the errors is correctly specified.\n",
       "\"\"\""
      ]
     },
     "execution_count": 20,
     "metadata": {},
     "output_type": "execute_result"
    }
   ],
   "source": [
    "import pandas as pd\n",
    "import statsmodels.formula.api as smf\n",
    "model = smf.ols(\"Y~X1+X2+X3+X4\", df).fit()\n",
    "model.summary()"
   ]
  },
  {
   "cell_type": "code",
   "execution_count": 21,
   "metadata": {},
   "outputs": [
    {
     "data": {
      "image/png": "[encoded data removed]",
      "text/plain": [
       "<Figure size 432x288 with 1 Axes>"
      ]
     },
     "metadata": {
      "needs_background": "light"
     },
     "output_type": "display_data"
    }
   ],
   "source": [
    "import matplotlib.pyplot as plt\n",
    "scp.probplot(model.resid, dist=\"norm\", plot=plt)\n",
    "plt.show()"
   ]
  },
  {
   "cell_type": "code",
   "execution_count": null,
   "metadata": {},
   "outputs": [],
   "source": []
  }
 ],
 "metadata": {
  "kernelspec": {
   "display_name": "Python 3",
   "language": "python",
   "name": "python3"
  },
  "language_info": {
   "codemirror_mode": {
    "name": "ipython",
    "version": 3
   },
   "file_extension": ".py",
   "mimetype": "text/x-python",
   "name": "python",
   "nbconvert_exporter": "python",
   "pygments_lexer": "ipython3",
   "version": "3.7.6"
  }
 },
 "nbformat": 4,
 "nbformat_minor": 4
}
