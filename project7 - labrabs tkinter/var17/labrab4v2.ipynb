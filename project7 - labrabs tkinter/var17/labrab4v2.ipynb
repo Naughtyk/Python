{
 "cells": [
  {
   "cell_type": "code",
   "execution_count": null,
   "metadata": {},
   "outputs": [],
   "source": [
    "from tkinter import *\n",
    "import calendar\n",
    "import datetime\n",
    "import time\n",
    "root = Tk()\n",
    "days = []\n",
    "year = 2020\n",
    "month = 5\n",
    "\n",
    "# Заполнение календаря\n",
    "def fill():\n",
    "    info_label['text'] = calendar.month_name[month] + ', ' + str(year)\n",
    "    month_days = calendar.monthrange(year, month)[1]\n",
    "    prew_month_days = calendar.monthrange(year, month - 1)[1]\n",
    "    week_day = calendar.monthrange(year, month)[0]\n",
    "    # Рисуем текущий месяц\n",
    "    for n in range(month_days):\n",
    "        days[n + week_day]['text'] = n + 1\n",
    "        days[n + week_day]['fg'] = 'black'\n",
    "        days[n + week_day]['background'] = 'lightgray'\n",
    "    # Рисуем дни предыдущего месяца\n",
    "    for n in range(week_day):\n",
    "        days[week_day - n - 1]['text'] = prew_month_days - n\n",
    "        days[week_day - n - 1]['fg'] = 'gray'\n",
    "        days[week_day - n - 1]['background'] = '#f3f3f3'\n",
    "    # Рисуем дни следующего месяца\n",
    "    for n in range(6*7 - month_days - week_day):\n",
    "        days[week_day + month_days + n]['text'] = n+1\n",
    "        days[week_day + month_days + n]['fg'] = 'gray'\n",
    "        days[week_day + month_days + n]['background'] = '#f3f3f3'\n",
    "\n",
    "canvas = Canvas(root, width=1000, height=1000)\n",
    "canvas.grid(row = 0, column = 0)\n",
    "\n",
    "# Месяц, год\n",
    "info_label = Label(canvas, text='0', width=1, height=1, \n",
    "            font=('Verdana', 16, 'bold'), fg='blue')\n",
    "info_label.grid(row=0, column=1, columnspan=5, sticky='nsew')\n",
    "\n",
    "# Названия sun mon tue...\n",
    "for n in range(7):\n",
    "    lbl = Label(canvas, text = calendar.day_abbr[n], width=1, height=1, \n",
    "                font=('Verdana', 10, 'normal'), fg='darkblue')\n",
    "    lbl.grid(row = 1, column = n, sticky='nsew')\n",
    "\n",
    "# Сами числа 1,2,3...\n",
    "for row in range(6):\n",
    "    for col in range(7):\n",
    "        lbl = Label(canvas, text='0', width=4, height=2, \n",
    "                    font=('Verdana', 16, 'bold'))\n",
    "        lbl.grid(row = row + 2, column = col, sticky='nsew')\n",
    "        days.append(lbl)\n",
    "\n",
    "def motion(i = 0, background = None, bd = 0):\n",
    "    if i > 0:\n",
    "        days[i - 1]['background'] = background\n",
    "    if i < len(days):\n",
    "        background = days[i]['background']\n",
    "        days[i]['background'] = 'green'\n",
    "        root.after(1000, motion, i + 1, background, bd)\n",
    "    else:\n",
    "        return\n",
    "\n",
    "def stopmotion():\n",
    "    pass\n",
    "    \n",
    "motion_button = Button(canvas, text = 'Пуск', command = motion)\n",
    "motion_button.grid(row = 0, column = 0, sticky = 'nsew')\n",
    "\n",
    "mainmenu = Menu(root) \n",
    "root.config(menu = mainmenu) \n",
    "mainmenu.add_command(label='Остановка', command = stopmotion)\n",
    "\n",
    "fill()\n",
    "\n",
    "canvas2 = Canvas(root, width=60, height=60)\n",
    "canvas2.create_rectangle(0, 0, 60, 60, fill='', outline='green', width=8)\n",
    "canvas2.grid(row = 0, column = 0)\n",
    "\n",
    "root.mainloop()"
   ]
  },
  {
   "cell_type": "code",
   "execution_count": 23,
   "metadata": {},
   "outputs": [
    {
     "data": {
      "text/plain": [
       "2020"
      ]
     },
     "execution_count": 23,
     "metadata": {},
     "output_type": "execute_result"
    }
   ],
   "source": [
    "year"
   ]
  },
  {
   "cell_type": "code",
   "execution_count": 4,
   "metadata": {},
   "outputs": [
    {
     "data": {
      "text/plain": [
       "5"
      ]
     },
     "execution_count": 4,
     "metadata": {},
     "output_type": "execute_result"
    }
   ],
   "source": [
    "month"
   ]
  },
  {
   "cell_type": "code",
   "execution_count": 5,
   "metadata": {},
   "outputs": [
    {
     "data": {
      "text/plain": [
       "datetime.datetime(2020, 5, 29, 13, 0, 22, 934253)"
      ]
     },
     "execution_count": 5,
     "metadata": {},
     "output_type": "execute_result"
    }
   ],
   "source": [
    "now"
   ]
  },
  {
   "cell_type": "code",
   "execution_count": 10,
   "metadata": {},
   "outputs": [
    {
     "data": {
      "text/plain": [
       "31"
      ]
     },
     "execution_count": 10,
     "metadata": {},
     "output_type": "execute_result"
    }
   ],
   "source": [
    "month_days = calendar.monthrange(year, month)[1]\n",
    "prew_month_days = calendar.monthrange(year, month - 1)[1]\n",
    "week_day = calendar.monthrange(year, month)[0]\n",
    "month_days"
   ]
  },
  {
   "cell_type": "code",
   "execution_count": 11,
   "metadata": {},
   "outputs": [
    {
     "data": {
      "text/plain": [
       "30"
      ]
     },
     "execution_count": 11,
     "metadata": {},
     "output_type": "execute_result"
    }
   ],
   "source": [
    "prew_month_days"
   ]
  },
  {
   "cell_type": "code",
   "execution_count": 12,
   "metadata": {},
   "outputs": [
    {
     "data": {
      "text/plain": [
       "4"
      ]
     },
     "execution_count": 12,
     "metadata": {},
     "output_type": "execute_result"
    }
   ],
   "source": [
    "week_day"
   ]
  },
  {
   "cell_type": "code",
   "execution_count": 14,
   "metadata": {},
   "outputs": [
    {
     "data": {
      "text/plain": [
       "[<tkinter.Label object .!label9>,\n",
       " <tkinter.Label object .!label10>,\n",
       " <tkinter.Label object .!label11>,\n",
       " <tkinter.Label object .!label12>,\n",
       " <tkinter.Label object .!label13>,\n",
       " <tkinter.Label object .!label14>,\n",
       " <tkinter.Label object .!label15>,\n",
       " <tkinter.Label object .!label16>,\n",
       " <tkinter.Label object .!label17>,\n",
       " <tkinter.Label object .!label18>,\n",
       " <tkinter.Label object .!label19>,\n",
       " <tkinter.Label object .!label20>,\n",
       " <tkinter.Label object .!label21>,\n",
       " <tkinter.Label object .!label22>,\n",
       " <tkinter.Label object .!label23>,\n",
       " <tkinter.Label object .!label24>,\n",
       " <tkinter.Label object .!label25>,\n",
       " <tkinter.Label object .!label26>,\n",
       " <tkinter.Label object .!label27>,\n",
       " <tkinter.Label object .!label28>,\n",
       " <tkinter.Label object .!label29>,\n",
       " <tkinter.Label object .!label30>,\n",
       " <tkinter.Label object .!label31>,\n",
       " <tkinter.Label object .!label32>,\n",
       " <tkinter.Label object .!label33>,\n",
       " <tkinter.Label object .!label34>,\n",
       " <tkinter.Label object .!label35>,\n",
       " <tkinter.Label object .!label36>,\n",
       " <tkinter.Label object .!label37>,\n",
       " <tkinter.Label object .!label38>,\n",
       " <tkinter.Label object .!label39>,\n",
       " <tkinter.Label object .!label40>,\n",
       " <tkinter.Label object .!label41>,\n",
       " <tkinter.Label object .!label42>,\n",
       " <tkinter.Label object .!label43>,\n",
       " <tkinter.Label object .!label44>,\n",
       " <tkinter.Label object .!label45>,\n",
       " <tkinter.Label object .!label46>,\n",
       " <tkinter.Label object .!label47>,\n",
       " <tkinter.Label object .!label48>,\n",
       " <tkinter.Label object .!label49>,\n",
       " <tkinter.Label object .!label50>]"
      ]
     },
     "execution_count": 14,
     "metadata": {},
     "output_type": "execute_result"
    }
   ],
   "source": [
    "days"
   ]
  },
  {
   "cell_type": "code",
   "execution_count": null,
   "metadata": {},
   "outputs": [],
   "source": []
  }
 ],
 "metadata": {
  "kernelspec": {
   "display_name": "Python 3",
   "language": "python",
   "name": "python3"
  },
  "language_info": {
   "codemirror_mode": {
    "name": "ipython",
    "version": 3
   },
   "file_extension": ".py",
   "mimetype": "text/x-python",
   "name": "python",
   "nbconvert_exporter": "python",
   "pygments_lexer": "ipython3",
   "version": "3.7.3"
  }
 },
 "nbformat": 4,
 "nbformat_minor": 2
}
